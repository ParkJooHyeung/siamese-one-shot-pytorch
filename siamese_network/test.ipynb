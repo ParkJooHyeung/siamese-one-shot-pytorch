{
 "cells": [
  {
   "cell_type": "code",
   "execution_count": 22,
   "outputs": [],
   "source": [
    "from data_loader import get_train_validation_loader\n",
    "from config_maker import get_config\n",
    "from torchvision import transforms"
   ],
   "metadata": {
    "collapsed": false,
    "pycharm": {
     "name": "#%%\n"
    }
   }
  },
  {
   "cell_type": "code",
   "execution_count": 23,
   "metadata": {
    "collapsed": true
   },
   "outputs": [
    {
     "name": "stdout",
     "output_type": "stream",
     "text": [
      "[*] use GPU Quadro RTX 4000\n"
     ]
    }
   ],
   "source": [
    "config = get_config()\n",
    "\n",
    "train_loader, valid_loader = get_train_validation_loader(config.data_dir, config.batch_size,\n",
    "                                                                 config.num_train,\n",
    "                                                                 config.augment, config.way,\n",
    "                                                                 config.valid_trials,\n",
    "                                                                 config.shuffle, config.seed,\n",
    "                                                                 config.num_workers, config.pin_memory)\n",
    "\n",
    "\n",
    "x1, x2, y = next(iter(valid_loader))"
   ]
  },
  {
   "cell_type": "code",
   "execution_count": 24,
   "outputs": [],
   "source": [
    "img = x1[0]\n",
    "img2 = x2[0]\n",
    "\n",
    "img = transforms.ToPILImage()(img).convert(\"L\")\n",
    "img2 = transforms.ToPILImage()(img2).convert(\"L\")"
   ],
   "metadata": {
    "collapsed": false,
    "pycharm": {
     "name": "#%%\n"
    }
   }
  },
  {
   "cell_type": "code",
   "execution_count": 25,
   "outputs": [
    {
     "name": "stdout",
     "output_type": "stream",
     "text": [
      "(35, 35)\n"
     ]
    }
   ],
   "source": [
    "print(img.size)"
   ],
   "metadata": {
    "collapsed": false,
    "pycharm": {
     "name": "#%%\n"
    }
   }
  },
  {
   "cell_type": "code",
   "execution_count": 26,
   "outputs": [],
   "source": [
    "img.show()"
   ],
   "metadata": {
    "collapsed": false,
    "pycharm": {
     "name": "#%%\n"
    }
   }
  }
 ],
 "metadata": {
  "kernelspec": {
   "display_name": "Python 3",
   "language": "python",
   "name": "python3"
  },
  "language_info": {
   "codemirror_mode": {
    "name": "ipython",
    "version": 2
   },
   "file_extension": ".py",
   "mimetype": "text/x-python",
   "name": "python",
   "nbconvert_exporter": "python",
   "pygments_lexer": "ipython2",
   "version": "2.7.6"
  }
 },
 "nbformat": 4,
 "nbformat_minor": 0
}