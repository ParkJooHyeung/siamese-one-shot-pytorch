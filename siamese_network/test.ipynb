{
 "cells": [
  {
   "cell_type": "code",
   "execution_count": 2,
   "outputs": [],
   "source": [
    "from data_loader import get_train_validation_loader, get_test_loader\n",
    "from config_maker import get_config\n",
    "from torch.utils.data import DataLoader\n",
    "from torchvision import transforms\n",
    "from trainer import Trainer\n",
    "from torchvision import datasets as dset\n",
    "from model import SiameseNet\n",
    "import os\n",
    "import torch\n",
    "from glob import glob\n",
    "from tqdm.notebook import tqdm\n",
    "\n",
    "from data_loader import OmniglotTrain"
   ],
   "metadata": {
    "collapsed": false,
    "pycharm": {
     "name": "#%%\n"
    }
   }
  },
  {
   "cell_type": "code",
   "execution_count": 2,
   "metadata": {
    "collapsed": true
   },
   "outputs": [],
   "source": [
    "#\n",
    "# train_loader, valid_loader = get_train_validation_loader(config.data_dir, config.batch_size,\n",
    "#                                                                  config.num_train,\n",
    "#                                                                  config.augment, config.way,\n",
    "#                                                                  config.valid_trials,\n",
    "#                                                                  config.shuffle, config.seed,\n",
    "#                                                                  config.num_workers, config.pin_memory)\n",
    "#"
   ]
  },
  {
   "cell_type": "code",
   "execution_count": 3,
   "outputs": [],
   "source": [
    "data_dir = '../data/processed/'\n",
    "train_dir = os.path.join(data_dir, 'train')\n",
    "\n",
    "train_dataset = dset.ImageFolder(train_dir)\n",
    "train_dataset = OmniglotTrain(train_dataset, 9000, False)\n",
    "train_loader = DataLoader(train_dataset, batch_size=64, shuffle=False)"
   ],
   "metadata": {
    "collapsed": false,
    "pycharm": {
     "name": "#%%\n"
    }
   }
  },
  {
   "cell_type": "code",
   "execution_count": 6,
   "outputs": [
    {
     "name": "stdout",
     "output_type": "stream",
     "text": [
      "tensor([0.8444])\n",
      "tensor([0.5329])\n",
      "tensor([0.8444]) tensor([0.5329])\n"
     ]
    }
   ],
   "source": [
    "nimages = 0\n",
    "mean = 0.0\n",
    "var = 0.0\n",
    "for i_batch, (x1,x2,y) in enumerate(train_loader):\n",
    "    # Rearrange x1 to be the shape of [B, C, W * H]\n",
    "    x1 = x1.view(x1.size(0), x1.size(1), -1)\n",
    "    # Update total number of images\n",
    "    nimages += x1.size(0)\n",
    "    # Compute mean and std here\n",
    "    mean += x1.mean(2).sum(0)\n",
    "    var += x1.var(2).sum(0)\n",
    "\n",
    "mean /= nimages\n",
    "var /= nimages\n",
    "std = torch.sqrt(var)\n",
    "\n",
    "print(mean,std)"
   ],
   "metadata": {
    "collapsed": false,
    "pycharm": {
     "name": "#%%\n"
    }
   }
  },
  {
   "cell_type": "code",
   "execution_count": 3,
   "outputs": [
    {
     "name": "stdout",
     "output_type": "stream",
     "text": [
      "[*] use GPU Quadro RTX 4000\n"
     ]
    }
   ],
   "source": [
    "config = get_config()\n",
    "is_best = True\n",
    "model = SiameseNet()\n",
    "\n",
    "if is_best:\n",
    "    model_path = os.path.join(config.logs_dir, './models/best_model.pt')\n",
    "else:\n",
    "    model_path = sorted(glob(config.logs_dir + './models/model_ckpt_*.pt'), key=len)[-1]\n",
    "\n",
    "ckpt = torch.load(model_path)\n",
    "\n",
    "model.load_state_dict(ckpt['model_state'])\n",
    "\n",
    "# if config.use_gpu:\n",
    "#     model.cuda()\n",
    "#     device = 'cuda'\n",
    "# else:\n",
    "device = 'cpu'\n",
    "\n",
    "test_loader = get_test_loader(config.data_dir, config.way, config.test_trials,\n",
    "                              config.seed, config.num_workers, config.pin_memory)"
   ],
   "metadata": {
    "collapsed": false,
    "pycharm": {
     "name": "#%%\n"
    }
   }
  },
  {
   "cell_type": "code",
   "execution_count": null,
   "outputs": [],
   "source": [
    "correct_sum = 0\n",
    "num_test = test_loader.dataset.trials\n",
    "print(f\"[*] Test on {num_test} pairs.\")\n",
    "\n",
    "pbar = tqdm(enumerate(test_loader), total=num_test, desc=\"Test\")\n",
    "with torch.no_grad():\n",
    "    for i, (x1, x2, _) in pbar:\n",
    "\n",
    "        print(x1,x2)\n",
    "\n",
    "        if config.use_gpu:\n",
    "            x1, x2 = x1.to(device), x2.to(device)\n",
    "\n",
    "        # compute log probabilities\n",
    "        out = model(x1, x2)\n",
    "\n",
    "        y_pred = torch.sigmoid(out)\n",
    "        y_pred = torch.argmax(y_pred)\n",
    "        if y_pred == 0:\n",
    "            correct_sum += 1\n",
    "\n",
    "        pbar.set_postfix_str(f\"accuracy: {correct_sum / num_test}\")\n",
    "\n",
    "test_acc = (100. * correct_sum) / num_test\n",
    "print(f\"Test Acc: {correct_sum}/{num_test} ({test_acc:.2f}%)\")"
   ],
   "metadata": {
    "collapsed": false,
    "pycharm": {
     "name": "#%%\n"
    }
   }
  }
 ],
 "metadata": {
  "kernelspec": {
   "display_name": "Python 3",
   "language": "python",
   "name": "python3"
  },
  "language_info": {
   "codemirror_mode": {
    "name": "ipython",
    "version": 2
   },
   "file_extension": ".py",
   "mimetype": "text/x-python",
   "name": "python",
   "nbconvert_exporter": "python",
   "pygments_lexer": "ipython2",
   "version": "2.7.6"
  }
 },
 "nbformat": 4,
 "nbformat_minor": 0
}